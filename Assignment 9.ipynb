{
 "cells": [
  {
   "cell_type": "markdown",
   "metadata": {},
   "source": [
    "#### 1. Write a Python program to check if the given number is a Disarium Number?"
   ]
  },
  {
   "cell_type": "code",
   "execution_count": 1,
   "metadata": {},
   "outputs": [
    {
     "name": "stdout",
     "output_type": "stream",
     "text": [
      "89 is a Disarium Number\n"
     ]
    }
   ],
   "source": [
    "num = 89\n",
    "num_str = list(str(num))\n",
    "sum = 0\n",
    "\n",
    "for i in range(len(num_str)):\n",
    "    sum = sum + int(num_str[i])**(i+1)\n",
    "    \n",
    "if num == sum:\n",
    "    print(f\"{num} is a Disarium Number\")\n",
    "else:\n",
    "    print(f\"{num} is not a Disarium Number\")"
   ]
  },
  {
   "cell_type": "markdown",
   "metadata": {},
   "source": [
    "#### 2. Write a Python program to print all disarium numbers between 1 to 100?"
   ]
  },
  {
   "cell_type": "code",
   "execution_count": 2,
   "metadata": {
    "scrolled": true
   },
   "outputs": [
    {
     "name": "stdout",
     "output_type": "stream",
     "text": [
      "1 2 3 4 5 6 7 8 9 89 "
     ]
    }
   ],
   "source": [
    "for num in range(1, 101):\n",
    "    num_str = list(str(num))\n",
    "    sum = 0\n",
    "\n",
    "    for i in range(len(num_str)):\n",
    "        sum = sum + int(num_str[i])**(i+1)\n",
    "        \n",
    "    if num == sum:\n",
    "        print(f\"{num}\", end=\" \")"
   ]
  },
  {
   "cell_type": "markdown",
   "metadata": {},
   "source": [
    "#### 3. Write a Python program to check if the given number is Happy Number?"
   ]
  },
  {
   "cell_type": "code",
   "execution_count": 3,
   "metadata": {},
   "outputs": [
    {
     "name": "stdout",
     "output_type": "stream",
     "text": [
      "13 is not a Happy Number\n",
      "13 is a Happy Number\n"
     ]
    }
   ],
   "source": [
    "temp = num = 13\n",
    "\n",
    "while True:\n",
    "    num_str = list(str(temp))\n",
    "    sum = 0 \n",
    "    \n",
    "    for i in range(len(num_str)):\n",
    "        sum = sum + int(num_str[i])**(2)\n",
    "        \n",
    "    temp = sum\n",
    "    if sum == 1:\n",
    "        print(f\"{num} is a Happy Number\")\n",
    "        break\n",
    "    else:\n",
    "        print(f\"{num} is not a Happy Number\")"
   ]
  },
  {
   "cell_type": "markdown",
   "metadata": {},
   "source": [
    "#### 4. Write a Python program to print all happy numbers between 1 and 100?"
   ]
  },
  {
   "cell_type": "code",
   "execution_count": 4,
   "metadata": {},
   "outputs": [],
   "source": [
    "def num_square(num):\n",
    "    num_str = list(str(num))\n",
    "    sum = 0;\n",
    "    \n",
    "    for i in range(len(num_str)):\n",
    "        sum = sum + int(num_str[i])**(2)\n",
    "        \n",
    "    return sum;"
   ]
  },
  {
   "cell_type": "code",
   "execution_count": 5,
   "metadata": {},
   "outputs": [],
   "source": [
    "def happy_number(num):\n",
    "    slow = num\n",
    "    fast = num\n",
    "    while(True):\n",
    "        \n",
    "        slow = num_square(slow)\n",
    "        fast = num_square(num_square(fast))\n",
    "        \n",
    "        if(slow != fast):\n",
    "            continue;\n",
    "        else:\n",
    "            break;\n",
    "\n",
    "    return (slow == 1)"
   ]
  },
  {
   "cell_type": "code",
   "execution_count": 6,
   "metadata": {
    "scrolled": false
   },
   "outputs": [
    {
     "name": "stdout",
     "output_type": "stream",
     "text": [
      "1 7 10 13 19 23 28 31 32 44 49 68 70 79 82 86 91 94 97 100 "
     ]
    }
   ],
   "source": [
    "for num in range(1, 101):\n",
    "    is_happy_number = happy_number(num)\n",
    "    if (is_happy_number):\n",
    "        print(f\"{num}\", end=\" \")"
   ]
  },
  {
   "cell_type": "markdown",
   "metadata": {},
   "source": [
    "#### 5. Write a Python program to determine whether the given number is a Harshad Number?"
   ]
  },
  {
   "cell_type": "code",
   "execution_count": 7,
   "metadata": {},
   "outputs": [
    {
     "name": "stdout",
     "output_type": "stream",
     "text": [
      "154 is not a Harshad Number\n"
     ]
    }
   ],
   "source": [
    "temp = num = 154\n",
    "sum = 0\n",
    "\n",
    "while temp:\n",
    "    sum += temp % 10\n",
    "    temp = temp // 10\n",
    "    \n",
    "if num % sum == 0:\n",
    "    print(f\"{num} is a Harshad Number\")\n",
    "else:\n",
    "    print(f\"{num} is not a Harshad Number\")"
   ]
  },
  {
   "cell_type": "markdown",
   "metadata": {},
   "source": [
    "#### 6. Write a Python program to print all pronic numbers between 1 and 100?"
   ]
  },
  {
   "cell_type": "code",
   "execution_count": 8,
   "metadata": {},
   "outputs": [
    {
     "name": "stdout",
     "output_type": "stream",
     "text": [
      "2 6 12 20 30 42 56 72 90 110 "
     ]
    }
   ],
   "source": [
    "counter = i = 1\n",
    "limit = 100\n",
    "while counter < 100:\n",
    "    counter = i*(i+1)\n",
    "    print(f\"{counter}\", end=\" \")\n",
    "    i += 1"
   ]
  },
  {
   "cell_type": "code",
   "execution_count": null,
   "metadata": {},
   "outputs": [],
   "source": []
  }
 ],
 "metadata": {
  "kernelspec": {
   "display_name": "eda-1",
   "language": "python",
   "name": "eda-1"
  },
  "language_info": {
   "codemirror_mode": {
    "name": "ipython",
    "version": 3
   },
   "file_extension": ".py",
   "mimetype": "text/x-python",
   "name": "python",
   "nbconvert_exporter": "python",
   "pygments_lexer": "ipython3",
   "version": "3.6.12"
  }
 },
 "nbformat": 4,
 "nbformat_minor": 4
}
