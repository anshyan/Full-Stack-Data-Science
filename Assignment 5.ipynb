{
 "cells": [
  {
   "cell_type": "markdown",
   "metadata": {},
   "source": [
    "#### 1. Write a Python Program to Find LCM?"
   ]
  },
  {
   "cell_type": "code",
   "execution_count": 1,
   "metadata": {},
   "outputs": [],
   "source": [
    "def lcm(num1, num2):\n",
    "    min_num = min([num1, num2])\n",
    "    \n",
    "    i, hcf = 1, 0\n",
    "    while i <= min_num // 2:\n",
    "        if num1 % i == 0:\n",
    "            if num2 % i == 0:\n",
    "                hcf = i\n",
    "        i+=1\n",
    "        \n",
    "    lcm = (num1 * num2) // hcf\n",
    "    print(f\"LCM of {num1} and {num2} is : {lcm}\")"
   ]
  },
  {
   "cell_type": "code",
   "execution_count": 2,
   "metadata": {},
   "outputs": [
    {
     "name": "stdout",
     "output_type": "stream",
     "text": [
      "LCM of 30 and 45 is : 90\n"
     ]
    }
   ],
   "source": [
    "lcm(30, 45)"
   ]
  },
  {
   "cell_type": "markdown",
   "metadata": {},
   "source": [
    "#### 2. Write a Python Program to Find HCF?"
   ]
  },
  {
   "cell_type": "code",
   "execution_count": 3,
   "metadata": {},
   "outputs": [
    {
     "name": "stdout",
     "output_type": "stream",
     "text": [
      "LCM of 144 and 24 is : 24\n"
     ]
    }
   ],
   "source": [
    "num1 = 144\n",
    "num2 = 24\n",
    "\n",
    "i, hcf = 1, 0\n",
    "while i <= num1 // 2:\n",
    "    if num1 % i == 0:\n",
    "        if num2 % i == 0:\n",
    "            hcf = i\n",
    "    i+=1\n",
    "\n",
    "print(f\"LCM of {num1} and {num2} is : {hcf}\")"
   ]
  },
  {
   "cell_type": "markdown",
   "metadata": {},
   "source": [
    "#### 3. Write a Python Program to Convert Decimal to Binary, Octal and Hexadecimal?"
   ]
  },
  {
   "cell_type": "code",
   "execution_count": 4,
   "metadata": {},
   "outputs": [
    {
     "name": "stdout",
     "output_type": "stream",
     "text": [
      "Decimal number 456 to binary is 111001000\n",
      "Decimal number 456 to octal is 710\n",
      "Decimal number 456 to hexadecimal is 1C8\n"
     ]
    }
   ],
   "source": [
    "temp = num = 456\n",
    "lst = []\n",
    "hexa_code = {10: 'A', 11: 'B', 12: 'C', 13: 'D', 14: 'E', 15: 'F'}\n",
    "base = [2, 8, 16]\n",
    "\n",
    "for b in base:\n",
    "    result = []\n",
    "    while num > 0:\n",
    "        if b == 16 and num % b > 9:\n",
    "            rem = hexa_code[num % b]\n",
    "        else:\n",
    "            rem = str(num % b)\n",
    "        result.append(rem)\n",
    "        num = num // b\n",
    "\n",
    "    result = \"\".join(result[::-1])\n",
    "    lst.append(result)\n",
    "    num = temp\n",
    "    \n",
    "print(f\"Decimal number {num} to binary is {lst[0]}\")\n",
    "print(f\"Decimal number {num} to octal is {lst[1]}\")\n",
    "print(f\"Decimal number {num} to hexadecimal is {lst[2]}\")"
   ]
  },
  {
   "cell_type": "markdown",
   "metadata": {},
   "source": [
    "#### 4. Write a Python Program To Find ASCII value of a character?"
   ]
  },
  {
   "cell_type": "code",
   "execution_count": 5,
   "metadata": {},
   "outputs": [
    {
     "name": "stdout",
     "output_type": "stream",
     "text": [
      "ASCII of D is 68\n"
     ]
    }
   ],
   "source": [
    "character = 'D'\n",
    "print(f\"ASCII of {character} is {ord(character)}\")"
   ]
  },
  {
   "cell_type": "markdown",
   "metadata": {},
   "source": [
    "#### 5. Write a Python Program to Make a Simple Calculator with 4 basic mathematical operations?"
   ]
  },
  {
   "cell_type": "code",
   "execution_count": 9,
   "metadata": {},
   "outputs": [],
   "source": [
    "class calulator():\n",
    "    def __init__(self):\n",
    "        pass\n",
    "    \n",
    "    def add(self, num1, num2):\n",
    "        print(f\"Addition of {num1} and {num2num1 + num2)\n",
    "        \n",
    "    def sub(self, num1, num2):\n",
    "        return num1 - num2\n",
    "        \n",
    "    def mul(self, num1, num2):\n",
    "        return num1 * num2\n",
    "        \n",
    "    def div(self, num1, num2):\n",
    "        if num2 != 0:\n",
    "            return num1 / num2\n",
    "        else:\n",
    "            print(f\"Second number can't be zero\")"
   ]
  },
  {
   "cell_type": "code",
   "execution_count": 10,
   "metadata": {},
   "outputs": [],
   "source": [
    "cal = calulator()"
   ]
  },
  {
   "cell_type": "code",
   "execution_count": 11,
   "metadata": {},
   "outputs": [
    {
     "name": "stdout",
     "output_type": "stream",
     "text": [
      "Second number can't be zero\n"
     ]
    }
   ],
   "source": [
    "cal.add(3, 4)\n",
    "cal.sub(3, 4)\n",
    "cal.mul(3, 4)\n",
    "cal.div(3, 0)"
   ]
  },
  {
   "cell_type": "code",
   "execution_count": null,
   "metadata": {},
   "outputs": [],
   "source": []
  }
 ],
 "metadata": {
  "kernelspec": {
   "display_name": "eda-1",
   "language": "python",
   "name": "eda-1"
  },
  "language_info": {
   "codemirror_mode": {
    "name": "ipython",
    "version": 3
   },
   "file_extension": ".py",
   "mimetype": "text/x-python",
   "name": "python",
   "nbconvert_exporter": "python",
   "pygments_lexer": "ipython3",
   "version": "3.6.12"
  }
 },
 "nbformat": 4,
 "nbformat_minor": 4
}
