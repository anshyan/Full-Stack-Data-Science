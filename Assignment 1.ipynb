{
 "cells": [
  {
   "cell_type": "markdown",
   "metadata": {},
   "source": [
    "#### 1. Write a Python program to print \"Hello Python\"?"
   ]
  },
  {
   "cell_type": "code",
   "execution_count": 1,
   "metadata": {},
   "outputs": [
    {
     "name": "stdout",
     "output_type": "stream",
     "text": [
      "Hello Python\n"
     ]
    }
   ],
   "source": [
    "print(\"Hello Python\")"
   ]
  },
  {
   "cell_type": "markdown",
   "metadata": {},
   "source": [
    "#### 2. Write a Python program to do arithmetical operations addition and division.?"
   ]
  },
  {
   "cell_type": "code",
   "execution_count": 2,
   "metadata": {},
   "outputs": [
    {
     "name": "stdout",
     "output_type": "stream",
     "text": [
      "5\n"
     ]
    }
   ],
   "source": [
    "print(2 + 3)"
   ]
  },
  {
   "cell_type": "code",
   "execution_count": 3,
   "metadata": {},
   "outputs": [
    {
     "name": "stdout",
     "output_type": "stream",
     "text": [
      "0.75\n"
     ]
    }
   ],
   "source": [
    "print(3/4)"
   ]
  },
  {
   "cell_type": "markdown",
   "metadata": {},
   "source": [
    "#### 3. Write a Python program to find the area of a triangle?"
   ]
  },
  {
   "cell_type": "code",
   "execution_count": 4,
   "metadata": {},
   "outputs": [
    {
     "name": "stdout",
     "output_type": "stream",
     "text": [
      "area of triangle, if base and height is given 6.0\n"
     ]
    }
   ],
   "source": [
    "# 1st way\n",
    "\n",
    "h = 4\n",
    "b = 3\n",
    "area = (b*h)/2\n",
    "print('area of triangle, if base and height is given', area)"
   ]
  },
  {
   "cell_type": "code",
   "execution_count": 5,
   "metadata": {},
   "outputs": [
    {
     "name": "stdout",
     "output_type": "stream",
     "text": [
      "area of triangle, if base and height is given 6.0\n"
     ]
    }
   ],
   "source": [
    "# 2nd way\n",
    "\n",
    "a = 4\n",
    "b = 3\n",
    "c = 5\n",
    "s = (a+b+c)/2\n",
    "area = (s*(s-a)*(s-b)*(s-c))**(1/2)\n",
    "print('area of triangle, if base and height is given', area)"
   ]
  },
  {
   "cell_type": "markdown",
   "metadata": {},
   "source": [
    "#### 4. Write a Python program to swap two variables?"
   ]
  },
  {
   "cell_type": "code",
   "execution_count": 6,
   "metadata": {},
   "outputs": [
    {
     "name": "stdout",
     "output_type": "stream",
     "text": [
      "a : 3  b : 5\n"
     ]
    }
   ],
   "source": [
    "a = 3\n",
    "b = 5\n",
    "print('a :', a, ' b :', b)"
   ]
  },
  {
   "cell_type": "code",
   "execution_count": 7,
   "metadata": {},
   "outputs": [
    {
     "name": "stdout",
     "output_type": "stream",
     "text": [
      "a : 5  b : 3\n"
     ]
    }
   ],
   "source": [
    "a = a+b\n",
    "b = a-b\n",
    "a = a-b\n",
    "print('a :', a, ' b :', b)"
   ]
  },
  {
   "cell_type": "markdown",
   "metadata": {},
   "source": [
    "#### 5. Write a Python program to generate a random number?\n",
    "\n",
    "https://en.wikipedia.org/wiki/Linear_congruential_generator\n",
    "\n",
    "https://stackoverflow.com/questions/14444520/two-forward-slashes-in-python"
   ]
  },
  {
   "cell_type": "code",
   "execution_count": 8,
   "metadata": {},
   "outputs": [],
   "source": [
    " \"\"\"Linear congruential generator.\"\"\"\n",
    "\n",
    "def lcg(seed):\n",
    "    while True:\n",
    "        modulus, a, c = 2**32, 22695477, 1\n",
    "        seed = (a * seed + c) % modulus\n",
    "        yield seed"
   ]
  },
  {
   "cell_type": "code",
   "execution_count": 9,
   "metadata": {},
   "outputs": [
    {
     "name": "stdout",
     "output_type": "stream",
     "text": [
      "Enter value for seed : 42\n",
      "Enter min value : 300\n",
      "Enter max value : 350\n"
     ]
    }
   ],
   "source": [
    "seed = int(input(\"Enter value for seed : \"))\n",
    "min_value = int(input(\"Enter min value : \"))\n",
    "max_value = int(input(\"Enter max value : \"))"
   ]
  },
  {
   "cell_type": "code",
   "execution_count": 10,
   "metadata": {},
   "outputs": [],
   "source": [
    "from collections import Iterable\n",
    "\n",
    "# rand = 0\n",
    "# def random(min_value, max_value, seed):\n",
    "    # if not isinstance(rand, Iterable):\n",
    "        # rand = iter(lcg(min_value, max_value, seed))\n",
    "    # return rand\n",
    "    \n",
    "rand = iter(lcg(seed))"
   ]
  },
  {
   "cell_type": "code",
   "execution_count": 13,
   "metadata": {},
   "outputs": [],
   "source": [
    "def next_value(min_value, max_value):\n",
    "    if min_value > max_value:\n",
    "        print(\"min_value is bigger than max_value\")\n",
    "        return\n",
    "    \n",
    "    number = next(rand)  \n",
    "\n",
    "    number = number % max_value\n",
    "    \n",
    "    if min_value > number or number > max_value:\n",
    "        number = next_value(min_value, max_value)\n",
    "    else :\n",
    "        print(number)"
   ]
  },
  {
   "cell_type": "code",
   "execution_count": 55,
   "metadata": {},
   "outputs": [
    {
     "name": "stdout",
     "output_type": "stream",
     "text": [
      "308\n"
     ]
    }
   ],
   "source": [
    "next_value(min_value, max_value)"
   ]
  },
  {
   "cell_type": "markdown",
   "metadata": {},
   "source": [
    "#### Reverse a number"
   ]
  },
  {
   "cell_type": "code",
   "execution_count": null,
   "metadata": {},
   "outputs": [],
   "source": [
    "def revs_number(number):\n",
    "    revs_number = 0  \n",
    "    while (number > 0):  \n",
    "        remainder = number % 10  \n",
    "        revs_number = (revs_number * 10) + remainder  \n",
    "        number = number // 10\n",
    "    return revs_number"
   ]
  },
  {
   "cell_type": "code",
   "execution_count": null,
   "metadata": {},
   "outputs": [],
   "source": []
  }
 ],
 "metadata": {
  "kernelspec": {
   "display_name": "eda-1",
   "language": "python",
   "name": "eda-1"
  },
  "language_info": {
   "codemirror_mode": {
    "name": "ipython",
    "version": 3
   },
   "file_extension": ".py",
   "mimetype": "text/x-python",
   "name": "python",
   "nbconvert_exporter": "python",
   "pygments_lexer": "ipython3",
   "version": "3.6.12"
  }
 },
 "nbformat": 4,
 "nbformat_minor": 4
}
