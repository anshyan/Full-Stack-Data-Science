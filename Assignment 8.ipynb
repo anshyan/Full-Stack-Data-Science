{
 "cells": [
  {
   "cell_type": "markdown",
   "metadata": {},
   "source": [
    "#### 1. Write a Python Program to Add Two Matrices?"
   ]
  },
  {
   "cell_type": "code",
   "execution_count": 1,
   "metadata": {},
   "outputs": [],
   "source": [
    "def add_matrices(mat1, mat2):\n",
    "    if len(mat1) == len(mat2) and len(mat1[0]) == len(mat2[0]):\n",
    "        mat3 = []\n",
    "        for i, j in zip(mat1, mat2):\n",
    "            ele = []\n",
    "            for k in range(len(i)):\n",
    "                ele.append(i[k] + j[k])\n",
    "            mat3.append(ele)\n",
    "    print(mat3)"
   ]
  },
  {
   "cell_type": "code",
   "execution_count": 2,
   "metadata": {},
   "outputs": [
    {
     "name": "stdout",
     "output_type": "stream",
     "text": [
      "[[2, 8, 10, 12], [-10, 16, 18, 2], [-17, 11, 19, 20]]\n"
     ]
    }
   ],
   "source": [
    "mat1 = [[1, 4, 5, 0], \n",
    "        [-5, 8, 9, 2],\n",
    "        [-11, 4, 8, 1]]\n",
    "mat2 = [[1, 4, 5, 12], \n",
    "        [-5, 8, 9, 0],\n",
    "        [-6, 7, 11, 19]]\n",
    "\n",
    "add_matrices(mat1, mat2)"
   ]
  },
  {
   "cell_type": "markdown",
   "metadata": {},
   "source": [
    "#### 2. Write a Python Program to Multiply Two Matrices?\n",
    "\n",
    "https://keisan.casio.com/exec/system/1311593076"
   ]
  },
  {
   "cell_type": "code",
   "execution_count": 3,
   "metadata": {},
   "outputs": [],
   "source": [
    "def dot_product(mat1, mat2):\n",
    "    if len(mat1[0]) == len(mat2):\n",
    "        mat2 = list(zip(*mat2))\n",
    "        mat3 = []\n",
    "        for i in range(len(mat1)):\n",
    "            ele = []\n",
    "            for j in range(len(mat2)):\n",
    "                sum = 0\n",
    "                for k in range(len(mat1[i])):\n",
    "                    sum = sum + mat1[i][k] * mat2[j][k]\n",
    "                ele.append(sum)\n",
    "            mat3.append(ele)\n",
    "    print(f\"Dot Product of 2 matrices is : {mat3}\")"
   ]
  },
  {
   "cell_type": "code",
   "execution_count": 4,
   "metadata": {},
   "outputs": [
    {
     "name": "stdout",
     "output_type": "stream",
     "text": [
      "Dot Product of 2 matrices is : [[-49, 71, 96, 107], [-99, 107, 146, 111]]\n"
     ]
    }
   ],
   "source": [
    "mat1 = [[1, 4, 5], \n",
    "        [-5, 8, 9]]\n",
    "\n",
    "mat2 = [[1, 4, 5, 12], \n",
    "        [-5, 8, 9, 0],\n",
    "        [-6, 7, 11, 19]]\n",
    "\n",
    "dot_product(mat1, mat2)"
   ]
  },
  {
   "cell_type": "markdown",
   "metadata": {},
   "source": [
    "#### 3. Write a Python Program to Transpose a Matrix?"
   ]
  },
  {
   "cell_type": "code",
   "execution_count": 5,
   "metadata": {},
   "outputs": [],
   "source": [
    "def transpose(mat):\n",
    "    return [list(i) for i in list(zip(*mat))]"
   ]
  },
  {
   "cell_type": "code",
   "execution_count": 6,
   "metadata": {},
   "outputs": [
    {
     "data": {
      "text/plain": [
       "[[1, 2, 3], [1, 2, 3], [1, 2, 3], [1, 2, 3]]"
      ]
     },
     "execution_count": 6,
     "metadata": {},
     "output_type": "execute_result"
    }
   ],
   "source": [
    "A = [[1, 1, 1, 1],\n",
    "     [2, 2, 2, 2],\n",
    "     [3, 3, 3, 3]]\n",
    "\n",
    "transpose(A)"
   ]
  },
  {
   "cell_type": "markdown",
   "metadata": {},
   "source": [
    "#### 4. Write a Python Program to Sort Words in Alphabetic Order?"
   ]
  },
  {
   "cell_type": "code",
   "execution_count": 7,
   "metadata": {},
   "outputs": [],
   "source": [
    "def sort_word(sentence):\n",
    "    words = sentence.split(' ')\n",
    "    words = sorted(words)\n",
    "    return ' '.join(words)"
   ]
  },
  {
   "cell_type": "code",
   "execution_count": 8,
   "metadata": {},
   "outputs": [
    {
     "data": {
      "text/plain": [
       "'brown fox fox jumps lazy over quick the the'"
      ]
     },
     "execution_count": 8,
     "metadata": {},
     "output_type": "execute_result"
    }
   ],
   "source": [
    "sentence = \"the quick brown fox jumps over the lazy fox\"\n",
    "\n",
    "sort_word(sentence)"
   ]
  },
  {
   "cell_type": "markdown",
   "metadata": {},
   "source": [
    "#### 5. Write a Python Program to Remove Punctuation From a String?"
   ]
  },
  {
   "cell_type": "code",
   "execution_count": 9,
   "metadata": {},
   "outputs": [],
   "source": [
    "def remove_punctuation_1(str):\n",
    "    str = list(str)\n",
    "    new_str = ''\n",
    "    for i in str:\n",
    "        if (ord(i) >= 97 and ord(i) <= 122) or (ord(i) >= 65 and ord(i) <= 90) or ord(i) == 32:\n",
    "            new_str = new_str + i\n",
    "            \n",
    "    return new_str"
   ]
  },
  {
   "cell_type": "code",
   "execution_count": 10,
   "metadata": {},
   "outputs": [],
   "source": [
    "import string\n",
    "\n",
    "def remove_punctuation_2(str):\n",
    "    return str.translate(str.maketrans('', '', string.punctuation))"
   ]
  },
  {
   "cell_type": "code",
   "execution_count": 11,
   "metadata": {
    "scrolled": true
   },
   "outputs": [],
   "source": [
    "str = \"“Stop! Police!” Read more at: https://www.skillsyouneed.com/write/punctuation1.html\""
   ]
  },
  {
   "cell_type": "code",
   "execution_count": 12,
   "metadata": {},
   "outputs": [
    {
     "data": {
      "text/plain": [
       "'Stop Police Read more at httpswwwskillsyouneedcomwritepunctuationhtml'"
      ]
     },
     "execution_count": 12,
     "metadata": {},
     "output_type": "execute_result"
    }
   ],
   "source": [
    "remove_punctuation_1(str)"
   ]
  },
  {
   "cell_type": "code",
   "execution_count": 13,
   "metadata": {},
   "outputs": [
    {
     "data": {
      "text/plain": [
       "'“Stop Police” Read more at httpswwwskillsyouneedcomwritepunctuation1html'"
      ]
     },
     "execution_count": 13,
     "metadata": {},
     "output_type": "execute_result"
    }
   ],
   "source": [
    "remove_punctuation_2(str)"
   ]
  }
 ],
 "metadata": {
  "kernelspec": {
   "display_name": "eda-1",
   "language": "python",
   "name": "eda-1"
  },
  "language_info": {
   "codemirror_mode": {
    "name": "ipython",
    "version": 3
   },
   "file_extension": ".py",
   "mimetype": "text/x-python",
   "name": "python",
   "nbconvert_exporter": "python",
   "pygments_lexer": "ipython3",
   "version": "3.6.12"
  }
 },
 "nbformat": 4,
 "nbformat_minor": 4
}
