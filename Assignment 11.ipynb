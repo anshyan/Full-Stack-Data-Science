{
 "cells": [
  {
   "cell_type": "markdown",
   "metadata": {},
   "source": [
    "#### 1. Write a Python program to find words which are greater than given length k?\n"
   ]
  },
  {
   "cell_type": "code",
   "execution_count": 1,
   "metadata": {},
   "outputs": [
    {
     "data": {
      "text/plain": [
       "\"goals ridiculously failure, above everyone else's success.\""
      ]
     },
     "execution_count": 1,
     "metadata": {},
     "output_type": "execute_result"
    }
   ],
   "source": [
    "sentence = \"If you set your goals ridiculously high and it's a failure, you will fail above everyone else's success.\"\n",
    "k = 4\n",
    "\n",
    "words = [word for word in sentence.split(' ') if len(word) > k]\n",
    "sentence = ' '.join(words) \n",
    "sentence"
   ]
  },
  {
   "cell_type": "markdown",
   "metadata": {},
   "source": [
    "#### 2. Write a Python program for removing i-th character from a string?\n"
   ]
  },
  {
   "cell_type": "code",
   "execution_count": 2,
   "metadata": {},
   "outputs": [
    {
     "data": {
      "text/plain": [
       "\"Many of life's filures are people who did not realize how close they were to success when they gave up.\""
      ]
     },
     "execution_count": 2,
     "metadata": {},
     "output_type": "execute_result"
    }
   ],
   "source": [
    "sentence = \"Many of life's failures are people who did not realize how close they were to success when they gave up.\"\n",
    "i = 16\n",
    "\n",
    "lst = list(sentence)\n",
    "lst.pop(i)\n",
    "\n",
    "''.join(lst)"
   ]
  },
  {
   "cell_type": "markdown",
   "metadata": {},
   "source": [
    "#### 3. Write a Python program to split and join a string?\n"
   ]
  },
  {
   "cell_type": "code",
   "execution_count": 3,
   "metadata": {},
   "outputs": [
    {
     "data": {
      "text/plain": [
       "['the', 'quick', 'brown', 'fox', 'jumps', 'over', 'the', 'lazy', 'fox']"
      ]
     },
     "execution_count": 3,
     "metadata": {},
     "output_type": "execute_result"
    }
   ],
   "source": [
    "sentence = \"the quick brown fox jumps over the lazy fox\"\n",
    "words = sentence.split(' ')\n",
    "words"
   ]
  },
  {
   "cell_type": "code",
   "execution_count": 4,
   "metadata": {},
   "outputs": [
    {
     "data": {
      "text/plain": [
       "'the quick brown fox jumps over the lazy fox'"
      ]
     },
     "execution_count": 4,
     "metadata": {},
     "output_type": "execute_result"
    }
   ],
   "source": [
    "' '.join(words)"
   ]
  },
  {
   "cell_type": "markdown",
   "metadata": {},
   "source": [
    "#### 4. Write a Python to check if a given string is binary string or not?\n"
   ]
  },
  {
   "cell_type": "code",
   "execution_count": 5,
   "metadata": {},
   "outputs": [
    {
     "name": "stdout",
     "output_type": "stream",
     "text": [
      "00101101 is a binary string\n"
     ]
    }
   ],
   "source": [
    "str = \"00101101\"\n",
    "\n",
    "str_set = set(str)\n",
    "\n",
    "if str_set == {'0', '1'} or str_set == {'0'} or str_set == {'1'}:\n",
    "    print(f\"{str} is a binary string\")\n",
    "else:\n",
    "    print(f\"{str} is not a binary string\")"
   ]
  },
  {
   "cell_type": "markdown",
   "metadata": {},
   "source": [
    "#### 5. Write a Python program to find uncommon words from two Strings?\n"
   ]
  },
  {
   "cell_type": "code",
   "execution_count": 6,
   "metadata": {
    "scrolled": true
   },
   "outputs": [],
   "source": [
    "sentence1 = \"Success is not final failure is not fatal It is the courage to continue that counts\"\n",
    "sentence2 = \"Success usually comes to those who are too busy to be looking for it\" \n",
    "\n",
    "sentence1 = list(set(sentence1.lower().split(' ')))\n",
    "sentence2 = list(set(sentence2.lower().split(' ')))"
   ]
  },
  {
   "cell_type": "code",
   "execution_count": 7,
   "metadata": {},
   "outputs": [
    {
     "data": {
      "text/plain": [
       "['courage',\n",
       " 'continue',\n",
       " 'failure',\n",
       " 'that',\n",
       " 'is',\n",
       " 'final',\n",
       " 'counts',\n",
       " 'not',\n",
       " 'fatal',\n",
       " 'the',\n",
       " 'for',\n",
       " 'are',\n",
       " 'those',\n",
       " 'comes',\n",
       " 'usually',\n",
       " 'too',\n",
       " 'be',\n",
       " 'busy',\n",
       " 'who',\n",
       " 'looking']"
      ]
     },
     "execution_count": 7,
     "metadata": {},
     "output_type": "execute_result"
    }
   ],
   "source": [
    "common_str = []\n",
    "\n",
    "for i in sentence1:\n",
    "    if i in sentence2:\n",
    "        common_str.append(i)\n",
    "\n",
    "for i in common_str:\n",
    "    if i in sentence1:\n",
    "        sentence1.pop(sentence1.index(i))\n",
    "    if i in sentence2:\n",
    "        sentence2.pop(sentence2.index(i))\n",
    "\n",
    "sentence1 + sentence2"
   ]
  },
  {
   "cell_type": "markdown",
   "metadata": {},
   "source": [
    "#### 6. Write a Python to find all duplicate characters in string?\n"
   ]
  },
  {
   "cell_type": "code",
   "execution_count": 8,
   "metadata": {},
   "outputs": [],
   "source": [
    "sentence1 = \"Success is not final failure is not fatal It is the courage to continue that counts\"\n",
    "sentence2 = \"Success usually comes to those who are too busy to be looking for it\" \n",
    "\n",
    "sentence1 = list(set(sentence1.lower().split(' ')))\n",
    "sentence2 = list(set(sentence2.lower().split(' ')))"
   ]
  },
  {
   "cell_type": "code",
   "execution_count": 9,
   "metadata": {},
   "outputs": [
    {
     "data": {
      "text/plain": [
       "['it', 'to', 'success']"
      ]
     },
     "execution_count": 9,
     "metadata": {},
     "output_type": "execute_result"
    }
   ],
   "source": [
    "common_str = []\n",
    "\n",
    "for i in sentence1:\n",
    "    if i in sentence2:\n",
    "        common_str.append(i)\n",
    "        \n",
    "common_str"
   ]
  },
  {
   "cell_type": "markdown",
   "metadata": {},
   "source": [
    "#### 7. Write a Python Program to check if a string contains any special character?"
   ]
  },
  {
   "cell_type": "code",
   "execution_count": 10,
   "metadata": {},
   "outputs": [],
   "source": [
    "import re"
   ]
  },
  {
   "cell_type": "code",
   "execution_count": 11,
   "metadata": {},
   "outputs": [],
   "source": [
    "sentence = \"&ucces$ is not {ina| f@ilure is not {at@l It is the cour@ge to (ont!nue that count$\"\n",
    "\n",
    "special_character = '[@_!#$%^&*()<>?/\\|}{~:]'"
   ]
  },
  {
   "cell_type": "code",
   "execution_count": 12,
   "metadata": {},
   "outputs": [],
   "source": [
    "regex = re.compile(special_character)"
   ]
  },
  {
   "cell_type": "code",
   "execution_count": 13,
   "metadata": {},
   "outputs": [
    {
     "name": "stdout",
     "output_type": "stream",
     "text": [
      "Given string contains special character\n"
     ]
    }
   ],
   "source": [
    "if regex.search(sentence) != None:\n",
    "    print(f\"Given string contains special character\" )\n",
    "else:\n",
    "    print(f\"Given string doen't contains special character\" )"
   ]
  }
 ],
 "metadata": {
  "kernelspec": {
   "display_name": "eda-1",
   "language": "python",
   "name": "eda-1"
  },
  "language_info": {
   "codemirror_mode": {
    "name": "ipython",
    "version": 3
   },
   "file_extension": ".py",
   "mimetype": "text/x-python",
   "name": "python",
   "nbconvert_exporter": "python",
   "pygments_lexer": "ipython3",
   "version": "3.6.12"
  }
 },
 "nbformat": 4,
 "nbformat_minor": 4
}
