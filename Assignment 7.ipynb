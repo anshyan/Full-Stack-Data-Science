{
 "cells": [
  {
   "cell_type": "markdown",
   "metadata": {},
   "source": [
    "#### 1. Write a Python Program to find sum of array?"
   ]
  },
  {
   "cell_type": "code",
   "execution_count": 1,
   "metadata": {},
   "outputs": [],
   "source": [
    "def sum_of_array(lst):\n",
    "    i = sum = 0\n",
    "    while i < len(lst):\n",
    "        sum = sum + i\n",
    "        i+=1\n",
    "    return sum"
   ]
  },
  {
   "cell_type": "code",
   "execution_count": 3,
   "metadata": {},
   "outputs": [
    {
     "data": {
      "text/plain": [
       "10"
      ]
     },
     "execution_count": 3,
     "metadata": {},
     "output_type": "execute_result"
    }
   ],
   "source": [
    "sum_of_array([1, 2, 3, 4 , 5])"
   ]
  },
  {
   "cell_type": "markdown",
   "metadata": {},
   "source": [
    "####  2. Write a Python Program to find largest element in an array?"
   ]
  },
  {
   "cell_type": "code",
   "execution_count": 11,
   "metadata": {},
   "outputs": [],
   "source": [
    "def largest_ele(lst):\n",
    "    i = 0\n",
    "    while i < len(lst):\n",
    "        j = 0\n",
    "        while j < len(lst):\n",
    "            if lst[i] < lst[j]:\n",
    "                lst[i] = lst[i] + lst[j]\n",
    "                lst[j] = lst[i] - lst[j]\n",
    "                lst[i] = lst[i] - lst[j]\n",
    "            j+=1\n",
    "        i+=1\n",
    "    print(lst)\n",
    "    return lst[-1]"
   ]
  },
  {
   "cell_type": "code",
   "execution_count": 12,
   "metadata": {},
   "outputs": [
    {
     "name": "stdout",
     "output_type": "stream",
     "text": [
      "[2, 10, 45, 68, 78, 90, 324, 678, 9808]\n"
     ]
    },
    {
     "data": {
      "text/plain": [
       "9808"
      ]
     },
     "execution_count": 12,
     "metadata": {},
     "output_type": "execute_result"
    }
   ],
   "source": [
    "largest_ele([10, 324, 45, 90, 9808, 78, 2, 678, 68])"
   ]
  },
  {
   "cell_type": "markdown",
   "metadata": {},
   "source": [
    "#### 3. Write a Python Program for array rotation?"
   ]
  },
  {
   "cell_type": "code",
   "execution_count": 43,
   "metadata": {},
   "outputs": [],
   "source": [
    "\n",
    "def arr_rotation(lst, rotation_by):\n",
    "    if rotation_by < len(lst):\n",
    "        for i in range(rotation_by):\n",
    "            a = lst.pop(0)\n",
    "            lst.append(a)\n",
    "    return lst\n"
   ]
  },
  {
   "cell_type": "code",
   "execution_count": 44,
   "metadata": {},
   "outputs": [
    {
     "data": {
      "text/plain": [
       "[68, 78, 90, 324, 678, 9808, 2, 10, 45]"
      ]
     },
     "execution_count": 44,
     "metadata": {},
     "output_type": "execute_result"
    }
   ],
   "source": [
    "arr_rotation([2, 10, 45, 68, 78, 90, 324, 678, 9808], 3)"
   ]
  },
  {
   "cell_type": "markdown",
   "metadata": {},
   "source": [
    "####  4. Write a Python Program to Split the array and add the first part to the end?"
   ]
  },
  {
   "cell_type": "code",
   "execution_count": 18,
   "metadata": {},
   "outputs": [],
   "source": [
    "def arr_rotation(lst, splitfrom):\n",
    "    if splitfrom < len(lst):\n",
    "        a = lst[:splitfrom]\n",
    "        lst = lst[splitfrom:]\n",
    "        lst = lst + a\n",
    "    return lst"
   ]
  },
  {
   "cell_type": "code",
   "execution_count": 19,
   "metadata": {},
   "outputs": [
    {
     "data": {
      "text/plain": [
       "[68, 78, 90, 324, 678, 9808, 2, 10, 45]"
      ]
     },
     "execution_count": 19,
     "metadata": {},
     "output_type": "execute_result"
    }
   ],
   "source": [
    "arr_rotation([2, 10, 45, 68, 78, 90, 324, 678, 9808], 3)"
   ]
  },
  {
   "cell_type": "markdown",
   "metadata": {},
   "source": [
    "#### 5. Write a Python Program to check if given array is Monotonic?"
   ]
  },
  {
   "cell_type": "code",
   "execution_count": 55,
   "metadata": {},
   "outputs": [],
   "source": [
    "def monotonic(lst):\n",
    "    mono = True\n",
    "    for i in range(len(lst)):\n",
    "        if i+1 != len(lst):\n",
    "            if lst[i] > lst[i+1]:\n",
    "                print(f\"Passed array is not monotonic in nature.\")\n",
    "                mono = False\n",
    "                break\n",
    "    if mono:\n",
    "        print(f\"Passed array is monotonic in nature.\")"
   ]
  },
  {
   "cell_type": "code",
   "execution_count": 58,
   "metadata": {},
   "outputs": [
    {
     "name": "stdout",
     "output_type": "stream",
     "text": [
      "Passed array is monotonic in nature.\n"
     ]
    }
   ],
   "source": [
    "monotonic([2, 10, 45, 68, 78, 90, 90, 324, 678, 9808])"
   ]
  },
  {
   "cell_type": "code",
   "execution_count": 60,
   "metadata": {},
   "outputs": [
    {
     "name": "stdout",
     "output_type": "stream",
     "text": [
      "Passed array is not monotonic in nature.\n"
     ]
    }
   ],
   "source": [
    "monotonic([10, 324, 45, 90, 9808, 78, 2, 90, 678, 68])"
   ]
  }
 ],
 "metadata": {
  "kernelspec": {
   "display_name": "eda-1",
   "language": "python",
   "name": "eda-1"
  },
  "language_info": {
   "codemirror_mode": {
    "name": "ipython",
    "version": 3
   },
   "file_extension": ".py",
   "mimetype": "text/x-python",
   "name": "python",
   "nbconvert_exporter": "python",
   "pygments_lexer": "ipython3",
   "version": "3.6.12"
  }
 },
 "nbformat": 4,
 "nbformat_minor": 4
}
